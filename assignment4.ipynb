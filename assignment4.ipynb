{
 "cells": [
  {
   "cell_type": "code",
   "execution_count": null,
   "metadata": {},
   "outputs": [],
   "source": [
    "import pandas as pd\n",
    "from sklearn.model_selection import train_test_split\n",
    "from sklearn.linear_model import SGDClassifier\n",
    "import sklearn.metrics as metrics\n",
    "from sklearn.metrics import accuracy_score, recall_score, f1_score, log_loss\n",
    "import matplotlib.pyplot as plt\n",
    "\n",
    "# Import dataset\n",
    "df = pd.read_csv('card_transdata.csv')\n",
    "display(df)\n",
    "print(df.shape)"
   ]
  },
  {
   "cell_type": "code",
   "execution_count": null,
   "metadata": {},
   "outputs": [],
   "source": [
    "# Check for any data instances with missing values\n",
    "df[df.isna().any(axis=1)]"
   ]
  },
  {
   "cell_type": "code",
   "execution_count": null,
   "metadata": {},
   "outputs": [],
   "source": [
    "df =  df.sample(frac=1) # shuffle the dataset\n",
    "X = df.iloc[:,[0, 1, 2, 3, 4, 5, 6]]\n",
    "y = df.iloc[:,[7]]\n",
    "display(X)\n",
    "display(y)"
   ]
  },
  {
   "cell_type": "code",
   "execution_count": null,
   "metadata": {},
   "outputs": [],
   "source": [
    "# using the train test split function (80% for training, 20% for testing)\n",
    "X_train, X_test, y_train, y_test = train_test_split(\n",
    "  X, y, random_state=42, test_size=0.2, shuffle=False)\n",
    "print(len(X_train))\n",
    "print(len(y_train))\n",
    "print(len(X_test))\n",
    "print(len(y_test))\n",
    "print(X_train.head()) # check if x and y align to each data instance\n",
    "print(y_train.head())"
   ]
  },
  {
   "cell_type": "code",
   "execution_count": null,
   "metadata": {},
   "outputs": [],
   "source": [
    "# Define SGDClassifer using log loss\n",
    "model = SGDClassifier(loss='log_loss')\n",
    "\n",
    "# Train the model\n",
    "model.fit(X_train, y_train)\n",
    "\n"
   ]
  },
  {
   "cell_type": "code",
   "execution_count": null,
   "metadata": {},
   "outputs": [],
   "source": [
    "# Show parameters (including intercept)\n",
    "parameters = list(model.coef_[0])\n",
    "parameters.insert(0, model.intercept_[0])\n",
    "print(\"Parameters: %s\" % parameters)\n",
    "\n",
    "# Predict\n",
    "train_pred = model.predict(X_train)\n",
    "test_pred = model.predict(X_test)\n",
    "\n",
    "# Class probabilities for log loss function\n",
    "train_pred_proba = model.predict_proba(X_train)\n",
    "test_pred_proba = model.predict_proba(X_test)"
   ]
  },
  {
   "cell_type": "code",
   "execution_count": null,
   "metadata": {},
   "outputs": [],
   "source": [
    "# Evaluation metrics\n",
    "\n",
    "train_accuracy = accuracy_score(y_train, train_pred)\n",
    "test_accuracy = accuracy_score(y_test, test_pred)\n",
    "train_sensitivity = recall_score(y_train, train_pred, average='binary', pos_label=1)\n",
    "test_sensitivity = recall_score(y_test, test_pred, average='binary', pos_label=1)\n",
    "train_specificity = recall_score(y_train, train_pred, average='binary', pos_label=0)\n",
    "test_specificity = recall_score(y_test, test_pred, average='binary', pos_label=0)\n",
    "train_f1 = f1_score(y_train, train_pred, average='binary')\n",
    "test_f1 = f1_score(y_test, test_pred, average='binary')\n",
    "train_logloss = log_loss(y_train, train_pred_proba)\n",
    "test_logloss = log_loss(y_test, test_pred_proba)"
   ]
  },
  {
   "cell_type": "code",
   "execution_count": null,
   "metadata": {},
   "outputs": [],
   "source": [
    "# To print out evaluation metrics\n",
    "metric = {\n",
    "    'Metrics': ['Accuracy', 'Sensitivity', 'Specificity', 'F1 Score', 'Log Loss'],\n",
    "    'Training': [train_accuracy, train_sensitivity, train_specificity, train_f1, train_logloss],\n",
    "    'Test' : [test_accuracy, test_sensitivity, test_specificity, test_f1, test_logloss]\n",
    "}\n",
    "\n",
    "# Replace header by the first row\n",
    "metric = pd.DataFrame(metric).T\n",
    "metric.columns = metric.iloc[0]\n",
    "metric = metric[1:]\n",
    "display(metric)"
   ]
  },
  {
   "cell_type": "code",
   "execution_count": null,
   "metadata": {},
   "outputs": [],
   "source": [
    "# Plotting ROC Curve (AUC)\n",
    "test_class_1_prob = test_pred_proba[:,1] # get the probabilites of class 1 to be labeled\n",
    "fpr, tpr, threshold = metrics.roc_curve(y_test, test_class_1_prob)\n",
    "roc_auc = metrics.auc(fpr, tpr)\n",
    "\n",
    "# Plot the ROC curve\n",
    "plt.figure()  \n",
    "plt.plot(fpr, tpr, label='ROC curve (area = %0.2f)' % roc_auc)\n",
    "plt.plot([0, 1], [0, 1], 'k--')\n",
    "plt.xlim([0.0, 1.0])\n",
    "plt.ylim([0.0, 1.05])\n",
    "plt.xlabel('False Positive Rate')\n",
    "plt.ylabel('True Positive Rate')\n",
    "plt.title('ROC Curve')\n",
    "plt.legend()\n",
    "plt.show()"
   ]
  }
 ],
 "metadata": {
  "kernelspec": {
   "display_name": "Python 3",
   "language": "python",
   "name": "python3"
  },
  "language_info": {
   "codemirror_mode": {
    "name": "ipython",
    "version": 3
   },
   "file_extension": ".py",
   "mimetype": "text/x-python",
   "name": "python",
   "nbconvert_exporter": "python",
   "pygments_lexer": "ipython3",
   "version": "3.10.13"
  }
 },
 "nbformat": 4,
 "nbformat_minor": 2
}
